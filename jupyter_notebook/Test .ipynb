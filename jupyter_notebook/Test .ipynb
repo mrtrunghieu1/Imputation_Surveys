{
 "cells": [
  {
   "cell_type": "code",
   "execution_count": 1,
   "metadata": {},
   "outputs": [],
   "source": [
    "train_path = 'C:\\\\Users\\\\Administrator\\\\Desktop\\\\Code_Test\\\\Research\\\\Surveys-Missing-Data-Imputation--master\\\\data_K_Fold\\\\abalone\\\\train\\\\data_missing_40\\\\train_1.csv'"
   ]
  },
  {
   "cell_type": "code",
   "execution_count": 2,
   "metadata": {},
   "outputs": [],
   "source": [
    "import numpy as np\n",
    "import random"
   ]
  },
  {
   "cell_type": "code",
   "execution_count": 3,
   "metadata": {},
   "outputs": [
    {
     "data": {
      "text/plain": [
       "array([[   nan,    nan,    nan, ...,    nan,    nan,  3.   ],\n",
       "       [ 0.67 ,  0.51 ,  0.175, ...,  0.345, 10.   ,  3.   ],\n",
       "       [ 0.67 ,  0.5  ,  0.19 , ...,  0.415, 10.   ,  3.   ],\n",
       "       ...,\n",
       "       [   nan,  0.43 ,  0.15 , ...,  0.22 ,  8.   ,  1.   ],\n",
       "       [ 0.62 ,  0.485,    nan, ...,  0.352,  9.   ,  1.   ],\n",
       "       [   nan,    nan,    nan, ...,  0.34 ,    nan,  3.   ]])"
      ]
     },
     "execution_count": 3,
     "metadata": {},
     "output_type": "execute_result"
    }
   ],
   "source": [
    "X_train = np.genfromtxt(train_path, delimiter=',')\n",
    "X_train"
   ]
  },
  {
   "cell_type": "code",
   "execution_count": 4,
   "metadata": {},
   "outputs": [],
   "source": [
    "test_path = 'C:\\\\Users\\\\Administrator\\\\Desktop\\\\Code_Test\\\\Research\\\\Surveys-Missing-Data-Imputation--master\\\\data_K_Fold\\\\abalone\\\\test\\\\data_missing_40\\\\test_1.csv'"
   ]
  },
  {
   "cell_type": "code",
   "execution_count": 5,
   "metadata": {},
   "outputs": [
    {
     "data": {
      "text/plain": [
       "array([[    nan,  0.195 ,  0.09  , ...,  0.0355,     nan,  2.    ],\n",
       "       [    nan,     nan,     nan, ...,     nan,     nan,  3.    ],\n",
       "       [ 0.66  ,  0.53  ,     nan, ...,     nan,     nan,  1.    ],\n",
       "       ...,\n",
       "       [    nan,     nan,     nan, ...,     nan,     nan,  2.    ],\n",
       "       [    nan,     nan,     nan, ...,     nan,     nan,  3.    ],\n",
       "       [ 0.49  ,  0.39  ,  0.15  , ...,  0.17  , 21.    ,  3.    ]])"
      ]
     },
     "execution_count": 5,
     "metadata": {},
     "output_type": "execute_result"
    }
   ],
   "source": [
    "X_test = np.genfromtxt(test_path, delimiter=',')\n",
    "X_test"
   ]
  },
  {
   "cell_type": "code",
   "execution_count": 6,
   "metadata": {},
   "outputs": [
    {
     "data": {
      "text/plain": [
       "array([3., 3., 3., ..., 1., 1., 3.])"
      ]
     },
     "execution_count": 6,
     "metadata": {},
     "output_type": "execute_result"
    }
   ],
   "source": [
    "X_train[:, -1]"
   ]
  },
  {
   "cell_type": "code",
   "execution_count": 7,
   "metadata": {},
   "outputs": [
    {
     "data": {
      "text/html": [
       "<div>\n",
       "<style scoped>\n",
       "    .dataframe tbody tr th:only-of-type {\n",
       "        vertical-align: middle;\n",
       "    }\n",
       "\n",
       "    .dataframe tbody tr th {\n",
       "        vertical-align: top;\n",
       "    }\n",
       "\n",
       "    .dataframe thead th {\n",
       "        text-align: right;\n",
       "    }\n",
       "</style>\n",
       "<table border=\"1\" class=\"dataframe\">\n",
       "  <thead>\n",
       "    <tr style=\"text-align: right;\">\n",
       "      <th></th>\n",
       "      <th>0</th>\n",
       "    </tr>\n",
       "  </thead>\n",
       "  <tbody>\n",
       "    <tr>\n",
       "      <th>0</th>\n",
       "      <td>2.0</td>\n",
       "    </tr>\n",
       "    <tr>\n",
       "      <th>1</th>\n",
       "      <td>3.0</td>\n",
       "    </tr>\n",
       "    <tr>\n",
       "      <th>2</th>\n",
       "      <td>1.0</td>\n",
       "    </tr>\n",
       "    <tr>\n",
       "      <th>3</th>\n",
       "      <td>1.0</td>\n",
       "    </tr>\n",
       "    <tr>\n",
       "      <th>4</th>\n",
       "      <td>2.0</td>\n",
       "    </tr>\n",
       "    <tr>\n",
       "      <th>...</th>\n",
       "      <td>...</td>\n",
       "    </tr>\n",
       "    <tr>\n",
       "      <th>829</th>\n",
       "      <td>2.0</td>\n",
       "    </tr>\n",
       "    <tr>\n",
       "      <th>830</th>\n",
       "      <td>3.0</td>\n",
       "    </tr>\n",
       "    <tr>\n",
       "      <th>831</th>\n",
       "      <td>2.0</td>\n",
       "    </tr>\n",
       "    <tr>\n",
       "      <th>832</th>\n",
       "      <td>3.0</td>\n",
       "    </tr>\n",
       "    <tr>\n",
       "      <th>833</th>\n",
       "      <td>3.0</td>\n",
       "    </tr>\n",
       "  </tbody>\n",
       "</table>\n",
       "<p>834 rows × 1 columns</p>\n",
       "</div>"
      ],
      "text/plain": [
       "       0\n",
       "0    2.0\n",
       "1    3.0\n",
       "2    1.0\n",
       "3    1.0\n",
       "4    2.0\n",
       "..   ...\n",
       "829  2.0\n",
       "830  3.0\n",
       "831  2.0\n",
       "832  3.0\n",
       "833  3.0\n",
       "\n",
       "[834 rows x 1 columns]"
      ]
     },
     "execution_count": 7,
     "metadata": {},
     "output_type": "execute_result"
    }
   ],
   "source": [
    "from sklearn.impute import SimpleImputer\n",
    "import pandas as pd\n",
    "imp_mean = SimpleImputer( strategy='mean')\n",
    "imp_mean.fit(X_train[:,:7], X_train[:,-1])\n",
    "imputed_train_df = imp_mean.transform(X_test[:, :7])\n",
    "pd.DataFrame(X_test[:,-1])"
   ]
  },
  {
   "cell_type": "code",
   "execution_count": null,
   "metadata": {},
   "outputs": [],
   "source": []
  },
  {
   "cell_type": "code",
   "execution_count": 8,
   "metadata": {},
   "outputs": [],
   "source": [
    "from sklearn.impute import KNNImputer"
   ]
  },
  {
   "cell_type": "code",
   "execution_count": 9,
   "metadata": {},
   "outputs": [
    {
     "data": {
      "text/plain": [
       "array([[   nan,    nan,    nan, ...,    nan,    nan,  3.   ],\n",
       "       [ 0.67 ,  0.51 ,  0.175, ...,  0.345, 10.   ,  3.   ],\n",
       "       [ 0.67 ,  0.5  ,  0.19 , ...,  0.415, 10.   ,  3.   ],\n",
       "       ...,\n",
       "       [   nan,  0.43 ,  0.15 , ...,  0.22 ,  8.   ,  1.   ],\n",
       "       [ 0.62 ,  0.485,    nan, ...,  0.352,  9.   ,  1.   ],\n",
       "       [   nan,    nan,    nan, ...,  0.34 ,    nan,  3.   ]])"
      ]
     },
     "execution_count": 9,
     "metadata": {},
     "output_type": "execute_result"
    }
   ],
   "source": [
    "X_train"
   ]
  },
  {
   "cell_type": "code",
   "execution_count": 10,
   "metadata": {
    "scrolled": true
   },
   "outputs": [
    {
     "data": {
      "text/plain": [
       "array([[ 0.3595 ,  0.195  ,  0.09   , ...,  0.0355 ,  6.2    ,  2.     ],\n",
       "       [ 0.5225 ,  0.4085 ,  0.1425 , ...,  0.26035, 10.2    ,  3.     ],\n",
       "       [ 0.66   ,  0.53   ,  0.1525 , ...,  0.32605, 10.6    ,  1.     ],\n",
       "       ...,\n",
       "       [ 0.4055 ,  0.3715 ,  0.112  , ...,  0.1598 ,  7.9    ,  2.     ],\n",
       "       [ 0.5225 ,  0.4085 ,  0.1425 , ...,  0.26035, 10.2    ,  3.     ],\n",
       "       [ 0.49   ,  0.39   ,  0.15   , ...,  0.17   , 21.     ,  3.     ]])"
      ]
     },
     "execution_count": 10,
     "metadata": {},
     "output_type": "execute_result"
    }
   ],
   "source": [
    "imputer = KNNImputer(n_neighbors=10)\n",
    "imputer.fit_transform(X_test)"
   ]
  },
  {
   "cell_type": "code",
   "execution_count": 11,
   "metadata": {},
   "outputs": [
    {
     "data": {
      "text/plain": [
       "array([[ 0.4465 ,  0.195  ,  0.09   , ...,  0.0355 ,  9.     ,  2.     ],\n",
       "       [ 0.5795 ,  0.4335 ,  0.153  , ...,  0.2421 , 10.8    ,  3.     ],\n",
       "       [ 0.66   ,  0.53   ,  0.1575 , ...,  0.35295, 11.5    ,  1.     ],\n",
       "       ...,\n",
       "       [ 0.457  ,  0.3405 ,  0.11   , ...,  0.102  ,  7.9    ,  2.     ],\n",
       "       [ 0.5795 ,  0.4335 ,  0.153  , ...,  0.2421 , 10.8    ,  3.     ],\n",
       "       [ 0.49   ,  0.39   ,  0.15   , ...,  0.17   , 21.     ,  3.     ]])"
      ]
     },
     "execution_count": 11,
     "metadata": {},
     "output_type": "execute_result"
    }
   ],
   "source": [
    "imputer.fit(X_train)\n",
    "imputer.transform(X_test)"
   ]
  },
  {
   "cell_type": "code",
   "execution_count": 12,
   "metadata": {},
   "outputs": [
    {
     "data": {
      "text/plain": [
       "KNNImputer(add_indicator=False, copy=True, metric='nan_euclidean',\n",
       "           missing_values=nan, n_neighbors=10, weights='uniform')"
      ]
     },
     "execution_count": 12,
     "metadata": {},
     "output_type": "execute_result"
    }
   ],
   "source": [
    "imputer"
   ]
  },
  {
   "cell_type": "code",
   "execution_count": 45,
   "metadata": {},
   "outputs": [
    {
     "data": {
      "text/plain": [
       "KNNImputer(add_indicator=False, copy=True, metric='nan_euclidean',\n",
       "           missing_values=nan, n_neighbors=5, weights='uniform')"
      ]
     },
     "execution_count": 45,
     "metadata": {},
     "output_type": "execute_result"
    }
   ],
   "source": [
    "KNNImputer()"
   ]
  },
  {
   "cell_type": "code",
   "execution_count": 14,
   "metadata": {},
   "outputs": [],
   "source": [
    "imp = SimpleImputer(strategy = \"mean\")"
   ]
  },
  {
   "cell_type": "code",
   "execution_count": 47,
   "metadata": {},
   "outputs": [
    {
     "data": {
      "text/plain": [
       "'SimpleImputer_mean'"
      ]
     },
     "execution_count": 47,
     "metadata": {},
     "output_type": "execute_result"
    }
   ],
   "source": [
    "SimpleImputer.__name__ +\"_\"+ imp.strategy"
   ]
  },
  {
   "cell_type": "code",
   "execution_count": 48,
   "metadata": {},
   "outputs": [
    {
     "data": {
      "text/plain": [
       "str"
      ]
     },
     "execution_count": 48,
     "metadata": {},
     "output_type": "execute_result"
    }
   ],
   "source": [
    "type(imp.strategy)"
   ]
  },
  {
   "cell_type": "code",
   "execution_count": 49,
   "metadata": {},
   "outputs": [
    {
     "ename": "TypeError",
     "evalue": "join() takes exactly one argument (2 given)",
     "output_type": "error",
     "traceback": [
      "\u001b[1;31m---------------------------------------------------------------------------\u001b[0m",
      "\u001b[1;31mTypeError\u001b[0m                                 Traceback (most recent call last)",
      "\u001b[1;32m<ipython-input-49-9f87d53f6891>\u001b[0m in \u001b[0;36m<module>\u001b[1;34m\u001b[0m\n\u001b[1;32m----> 1\u001b[1;33m \u001b[0mimp_name\u001b[0m \u001b[1;33m=\u001b[0m \u001b[1;34m\"_\"\u001b[0m\u001b[1;33m.\u001b[0m\u001b[0mjoin\u001b[0m\u001b[1;33m(\u001b[0m\u001b[0mSimpleImputer\u001b[0m\u001b[1;33m.\u001b[0m\u001b[0m__name__\u001b[0m\u001b[1;33m,\u001b[0m \u001b[0mimp\u001b[0m\u001b[1;33m.\u001b[0m\u001b[0mstrategy\u001b[0m\u001b[1;33m)\u001b[0m\u001b[1;33m\u001b[0m\u001b[1;33m\u001b[0m\u001b[0m\n\u001b[0m",
      "\u001b[1;31mTypeError\u001b[0m: join() takes exactly one argument (2 given)"
     ]
    }
   ],
   "source": [
    "imp_name = "
   ]
  },
  {
   "cell_type": "code",
   "execution_count": 50,
   "metadata": {},
   "outputs": [
    {
     "name": "stdout",
     "output_type": "stream",
     "text": [
      "1\n",
      "1\n",
      "1\n"
     ]
    }
   ],
   "source": [
    "flag = [1,1,1]\n",
    "for i,_ in flag:\n",
    "    print(i)"
   ]
  },
  {
   "cell_type": "code",
   "execution_count": null,
   "metadata": {},
   "outputs": [],
   "source": []
  },
  {
   "cell_type": "code",
   "execution_count": null,
   "metadata": {},
   "outputs": [],
   "source": []
  },
  {
   "cell_type": "code",
   "execution_count": 1,
   "metadata": {},
   "outputs": [],
   "source": [
    "from sklearn.metrics import precision_recall_fscore_support\n",
    "from sklearn.metrics import accuracy_score"
   ]
  },
  {
   "cell_type": "code",
   "execution_count": 2,
   "metadata": {},
   "outputs": [],
   "source": [
    "test_md_y = [0, 1, 2, 2, 2]\n",
    "predict_label = [0, 0, 2, 2, 1]"
   ]
  },
  {
   "cell_type": "code",
   "execution_count": 8,
   "metadata": {},
   "outputs": [],
   "source": [
    "_, _, f1_macro, _ = precision_recall_fscore_support(test_md_y, predict_label, average='macro')\n",
    "accuracy = accuracy_score(test_md_y, predict_label)\n"
   ]
  },
  {
   "cell_type": "code",
   "execution_count": 9,
   "metadata": {},
   "outputs": [
    {
     "data": {
      "text/plain": [
       "0.48888888888888893"
      ]
     },
     "execution_count": 9,
     "metadata": {},
     "output_type": "execute_result"
    }
   ],
   "source": [
    "f1_macro"
   ]
  },
  {
   "cell_type": "code",
   "execution_count": 10,
   "metadata": {},
   "outputs": [
    {
     "data": {
      "text/plain": [
       "0.6"
      ]
     },
     "execution_count": 10,
     "metadata": {},
     "output_type": "execute_result"
    }
   ],
   "source": [
    "accuracy"
   ]
  },
  {
   "cell_type": "code",
   "execution_count": 11,
   "metadata": {},
   "outputs": [
    {
     "data": {
      "text/plain": [
       "0.6"
      ]
     },
     "execution_count": 11,
     "metadata": {},
     "output_type": "execute_result"
    }
   ],
   "source": [
    "f1_micro"
   ]
  },
  {
   "cell_type": "code",
   "execution_count": 12,
   "metadata": {},
   "outputs": [],
   "source": [
    "from sklearn.neighbors import KNeighborsClassifier"
   ]
  },
  {
   "cell_type": "code",
   "execution_count": 13,
   "metadata": {},
   "outputs": [],
   "source": [
    "kneigh = KNeighborsClassifier(n_neighbors=10)"
   ]
  },
  {
   "cell_type": "code",
   "execution_count": 17,
   "metadata": {},
   "outputs": [
    {
     "data": {
      "text/plain": [
       "'KNeighborsClassifier'"
      ]
     },
     "execution_count": 17,
     "metadata": {},
     "output_type": "execute_result"
    }
   ],
   "source": [
    "kneigh.__class__.__name__"
   ]
  },
  {
   "cell_type": "code",
   "execution_count": 18,
   "metadata": {},
   "outputs": [],
   "source": [
    "from sklearn import tree"
   ]
  },
  {
   "cell_type": "code",
   "execution_count": 19,
   "metadata": {},
   "outputs": [],
   "source": [
    "clf = tree.DecisionTreeClassifier()"
   ]
  },
  {
   "cell_type": "code",
   "execution_count": 20,
   "metadata": {},
   "outputs": [
    {
     "data": {
      "text/plain": [
       "'DecisionTreeClassifier'"
      ]
     },
     "execution_count": 20,
     "metadata": {},
     "output_type": "execute_result"
    }
   ],
   "source": [
    "clf.__class__.__name__"
   ]
  },
  {
   "cell_type": "code",
   "execution_count": 24,
   "metadata": {},
   "outputs": [],
   "source": [
    "import numpy as np"
   ]
  },
  {
   "cell_type": "code",
   "execution_count": 33,
   "metadata": {},
   "outputs": [],
   "source": [
    "a = [1,2,3,4]"
   ]
  },
  {
   "cell_type": "code",
   "execution_count": 59,
   "metadata": {},
   "outputs": [],
   "source": [
    "from numpy import savetxt\n",
    "import csv "
   ]
  },
  {
   "cell_type": "code",
   "execution_count": 60,
   "metadata": {},
   "outputs": [],
   "source": [
    "std = np.std(a)"
   ]
  },
  {
   "cell_type": "code",
   "execution_count": 61,
   "metadata": {},
   "outputs": [],
   "source": [
    "mean = np.mean(a)"
   ]
  },
  {
   "cell_type": "code",
   "execution_count": 72,
   "metadata": {},
   "outputs": [],
   "source": [
    "a = [1,2,3,4,std,mean]"
   ]
  },
  {
   "cell_type": "code",
   "execution_count": 78,
   "metadata": {},
   "outputs": [
    {
     "name": "stdout",
     "output_type": "stream",
     "text": [
      "1\n",
      "2\n",
      "3\n",
      "4\n",
      "1.0481352526332528\n",
      "2.269672331458316\n"
     ]
    }
   ],
   "source": [
    "import csv\n",
    "\n",
    "with open('newfilePath.csv', \"w\") as f:\n",
    "    writer = csv.writer(f)\n",
    "    for row in a:\n",
    "        print(row)\n",
    "        writer.writerow(str(row))"
   ]
  },
  {
   "cell_type": "code",
   "execution_count": 69,
   "metadata": {},
   "outputs": [],
   "source": [
    "savetxt('test.csv', a, delimiter=',')"
   ]
  },
  {
   "cell_type": "code",
   "execution_count": 1,
   "metadata": {},
   "outputs": [],
   "source": [
    "import numpy as np"
   ]
  },
  {
   "cell_type": "code",
   "execution_count": 23,
   "metadata": {},
   "outputs": [
    {
     "data": {
      "text/plain": [
       "array([[0.71449961, 0.81447519, 0.4907141 , 0.67992064],\n",
       "       [0.81390847, 0.7127158 , 0.43256118, 0.42323631],\n",
       "       [0.35488431, 0.37801875, 0.56371913, 0.05130302],\n",
       "       [0.7561533 , 0.71813108, 0.31901966, 0.6528093 ],\n",
       "       [0.81438809, 0.71710077, 0.5404173 , 0.51221637],\n",
       "       [0.24547296, 0.81299418, 0.22808699, 0.87745947],\n",
       "       [0.6587409 , 0.82935171, 0.13483538, 0.11805721],\n",
       "       [0.87016717, 0.12488407, 0.69198822, 0.76193006],\n",
       "       [0.76682954, 0.06409884, 0.8306078 , 0.19675907],\n",
       "       [0.55839986, 0.71917676, 0.12444165, 0.6897089 ]])"
      ]
     },
     "execution_count": 23,
     "metadata": {},
     "output_type": "execute_result"
    }
   ],
   "source": [
    "a = np.random.rand(10,4)\n",
    "a"
   ]
  },
  {
   "cell_type": "code",
   "execution_count": 24,
   "metadata": {},
   "outputs": [
    {
     "data": {
      "text/plain": [
       "array([[0.14758937, 0.80613471, 0.04356243, 0.77873385],\n",
       "       [0.80297753, 0.70425701, 0.82375147, 0.65660998],\n",
       "       [0.65909254, 0.30470893, 0.51499962, 0.31389572],\n",
       "       [0.42401596, 0.63437727, 0.31153405, 0.17580596],\n",
       "       [0.27487432, 0.37354614, 0.6487247 , 0.15836202],\n",
       "       [0.92498544, 0.46299832, 0.78782906, 0.43516988]])"
      ]
     },
     "execution_count": 24,
     "metadata": {},
     "output_type": "execute_result"
    }
   ],
   "source": [
    "b = np.random.rand(6,4)\n",
    "b"
   ]
  },
  {
   "cell_type": "code",
   "execution_count": 20,
   "metadata": {},
   "outputs": [
    {
     "data": {
      "text/plain": [
       "array([[0.21082405],\n",
       "       [0.67578081],\n",
       "       [0.72258117],\n",
       "       [0.44091732],\n",
       "       [0.93030267],\n",
       "       [0.87066839],\n",
       "       [0.93285181],\n",
       "       [0.38898987],\n",
       "       [0.09033245],\n",
       "       [0.84830885]])"
      ]
     },
     "execution_count": 20,
     "metadata": {},
     "output_type": "execute_result"
    }
   ],
   "source": [
    "b.reshape(10,1)"
   ]
  },
  {
   "cell_type": "code",
   "execution_count": 18,
   "metadata": {},
   "outputs": [
    {
     "data": {
      "text/plain": [
       "array([0.21082405, 0.67578081, 0.72258117, 0.44091732, 0.93030267,\n",
       "       0.87066839, 0.93285181, 0.38898987, 0.09033245, 0.84830885])"
      ]
     },
     "execution_count": 18,
     "metadata": {},
     "output_type": "execute_result"
    }
   ],
   "source": [
    "b"
   ]
  },
  {
   "cell_type": "code",
   "execution_count": 25,
   "metadata": {},
   "outputs": [
    {
     "data": {
      "text/plain": [
       "array([[0.71449961, 0.81447519, 0.4907141 , 0.67992064],\n",
       "       [0.81390847, 0.7127158 , 0.43256118, 0.42323631],\n",
       "       [0.35488431, 0.37801875, 0.56371913, 0.05130302],\n",
       "       [0.7561533 , 0.71813108, 0.31901966, 0.6528093 ],\n",
       "       [0.81438809, 0.71710077, 0.5404173 , 0.51221637],\n",
       "       [0.24547296, 0.81299418, 0.22808699, 0.87745947],\n",
       "       [0.6587409 , 0.82935171, 0.13483538, 0.11805721],\n",
       "       [0.87016717, 0.12488407, 0.69198822, 0.76193006],\n",
       "       [0.76682954, 0.06409884, 0.8306078 , 0.19675907],\n",
       "       [0.55839986, 0.71917676, 0.12444165, 0.6897089 ],\n",
       "       [0.14758937, 0.80613471, 0.04356243, 0.77873385],\n",
       "       [0.80297753, 0.70425701, 0.82375147, 0.65660998],\n",
       "       [0.65909254, 0.30470893, 0.51499962, 0.31389572],\n",
       "       [0.42401596, 0.63437727, 0.31153405, 0.17580596],\n",
       "       [0.27487432, 0.37354614, 0.6487247 , 0.15836202],\n",
       "       [0.92498544, 0.46299832, 0.78782906, 0.43516988]])"
      ]
     },
     "execution_count": 25,
     "metadata": {},
     "output_type": "execute_result"
    }
   ],
   "source": [
    "np.concatenate((a,b), axis = 0)"
   ]
  },
  {
   "cell_type": "code",
   "execution_count": 1,
   "metadata": {},
   "outputs": [],
   "source": [
    "import pandas as pd"
   ]
  },
  {
   "cell_type": "code",
   "execution_count": 6,
   "metadata": {},
   "outputs": [],
   "source": [
    "d = {'DTree': pd.Series([1,2,3,4], index=['KNN', 'MICE', 'Mean', 'Constant']),\n",
    "    'KNN': pd.Series([5,8,3,4], index=['KNN', 'MICE', 'Mean', 'Constant'])}"
   ]
  },
  {
   "cell_type": "code",
   "execution_count": 7,
   "metadata": {},
   "outputs": [
    {
     "data": {
      "text/html": [
       "<div>\n",
       "<style scoped>\n",
       "    .dataframe tbody tr th:only-of-type {\n",
       "        vertical-align: middle;\n",
       "    }\n",
       "\n",
       "    .dataframe tbody tr th {\n",
       "        vertical-align: top;\n",
       "    }\n",
       "\n",
       "    .dataframe thead th {\n",
       "        text-align: right;\n",
       "    }\n",
       "</style>\n",
       "<table border=\"1\" class=\"dataframe\">\n",
       "  <thead>\n",
       "    <tr style=\"text-align: right;\">\n",
       "      <th></th>\n",
       "      <th>DTree</th>\n",
       "      <th>KNN</th>\n",
       "    </tr>\n",
       "  </thead>\n",
       "  <tbody>\n",
       "    <tr>\n",
       "      <th>KNN</th>\n",
       "      <td>1</td>\n",
       "      <td>5</td>\n",
       "    </tr>\n",
       "    <tr>\n",
       "      <th>MICE</th>\n",
       "      <td>2</td>\n",
       "      <td>8</td>\n",
       "    </tr>\n",
       "    <tr>\n",
       "      <th>Mean</th>\n",
       "      <td>3</td>\n",
       "      <td>3</td>\n",
       "    </tr>\n",
       "    <tr>\n",
       "      <th>Constant</th>\n",
       "      <td>4</td>\n",
       "      <td>4</td>\n",
       "    </tr>\n",
       "  </tbody>\n",
       "</table>\n",
       "</div>"
      ],
      "text/plain": [
       "          DTree  KNN\n",
       "KNN           1    5\n",
       "MICE          2    8\n",
       "Mean          3    3\n",
       "Constant      4    4"
      ]
     },
     "execution_count": 7,
     "metadata": {},
     "output_type": "execute_result"
    }
   ],
   "source": [
    "df = pd.DataFrame(d)\n",
    "df"
   ]
  },
  {
   "cell_type": "code",
   "execution_count": 57,
   "metadata": {},
   "outputs": [],
   "source": [
    "import numpy as np\n",
    "from sklearn.model_selection import train_test_split\n",
    "import random\n",
    "import os\n",
    "random.seed(42)\n",
    "X, y = np.random.rand(5,4), range(5)"
   ]
  },
  {
   "cell_type": "code",
   "execution_count": 58,
   "metadata": {},
   "outputs": [
    {
     "data": {
      "text/plain": [
       "array([[0.30496917, 0.8484589 , 0.71849316, 0.25478219],\n",
       "       [0.26169735, 0.71181814, 0.29730694, 0.05213373],\n",
       "       [0.06413137, 0.2130587 , 0.90989654, 0.87288178]])"
      ]
     },
     "execution_count": 58,
     "metadata": {},
     "output_type": "execute_result"
    }
   ],
   "source": [
    "X_train, X_test, y_train, y_test = train_test_split(X, y, test_size=0.33, random_state=42)\n",
    "X_train"
   ]
  },
  {
   "cell_type": "code",
   "execution_count": 59,
   "metadata": {},
   "outputs": [],
   "source": [
    "def degrade_dataset(X, missingness, rand, v):\n",
    "    \"\"\"\n",
    "    Inputs:\n",
    "        dataset to corrupt\n",
    "        % of data to eliminate[0,1]\n",
    "        rand random state\n",
    "        replace with = 'zero' or 'nan'\n",
    "      Outputs:\n",
    "        corrupted Dataset \n",
    "        binary mask\n",
    "    \"\"\"\n",
    "    X_1d = X.flatten()\n",
    "    n = len(X_1d)\n",
    "    mask_1d = np.ones(n)\n",
    "    print(mask_1d)\n",
    "    corrupt_ids = random.sample(range(n), int(missingness * n))\n",
    "    print(corrupt_ids)\n",
    "    for i in corrupt_ids:\n",
    "        X_1d[i] = v\n",
    "        mask_1d[i] = 0\n",
    "\n",
    "    cX = X_1d.reshape(X.shape)\n",
    "    mask = mask_1d.reshape(X.shape)\n",
    "\n",
    "    return cX, mask"
   ]
  },
  {
   "cell_type": "code",
   "execution_count": 60,
   "metadata": {},
   "outputs": [
    {
     "name": "stdout",
     "output_type": "stream",
     "text": [
      "[1. 1. 1. 1. 1. 1. 1. 1. 1. 1. 1. 1.]\n",
      "[10, 1]\n"
     ]
    },
    {
     "data": {
      "text/plain": [
       "(array([[0.30496917,        nan, 0.71849316, 0.25478219],\n",
       "        [0.26169735, 0.71181814, 0.29730694, 0.05213373],\n",
       "        [0.06413137, 0.2130587 ,        nan, 0.87288178]]),\n",
       " array([[1., 0., 1., 1.],\n",
       "        [1., 1., 1., 1.],\n",
       "        [1., 1., 0., 1.]]))"
      ]
     },
     "execution_count": 60,
     "metadata": {},
     "output_type": "execute_result"
    }
   ],
   "source": [
    "degrade_dataset(X_train, 0.2, 42, np.nan)"
   ]
  },
  {
   "cell_type": "code",
   "execution_count": 61,
   "metadata": {},
   "outputs": [
    {
     "data": {
      "text/plain": [
       "array([[0.30496917, 0.8484589 , 0.71849316, 0.25478219],\n",
       "       [0.26169735, 0.71181814, 0.29730694, 0.05213373],\n",
       "       [0.06413137, 0.2130587 , 0.90989654, 0.87288178]])"
      ]
     },
     "execution_count": 61,
     "metadata": {},
     "output_type": "execute_result"
    }
   ],
   "source": [
    "X_train"
   ]
  },
  {
   "cell_type": "code",
   "execution_count": 98,
   "metadata": {},
   "outputs": [],
   "source": [
    "data_K_Fold = \"C:\\\\Users\\\\DELL\\\\Desktop\\\\Research\\\\Imputation_Surveys\\\\data_K_Fold\"\n",
    "file_name = 'abalone'"
   ]
  },
  {
   "cell_type": "code",
   "execution_count": 99,
   "metadata": {},
   "outputs": [],
   "source": [
    "def csv_reader(save_folder, file_name, i, method, missingness):\n",
    "    '''Loader csv files \n",
    "    Args:\n",
    "    - save_folder: path to save directory\n",
    "    - file_name: name of UCI datasets (ex: abalone, heart, tic-tac-toe)\n",
    "    - i: index of fold_size\n",
    "    - method: original data or missing data \n",
    "    - missingness: missingness constant\n",
    "\n",
    "    Returns:\n",
    "    - X_train: matrix train data\n",
    "    - X_test:  matrix test data\n",
    "    '''\n",
    "    file_name_folder = os.path.join(save_folder, file_name)\n",
    "    if method == 'original_data' and missingness == None:\n",
    "        train_folder = os.path.join(file_name_folder, 'train/original_data')\n",
    "        check_exist_folder(train_folder)\n",
    "        test_folder = os.path.join(file_name_folder, 'test/original_data')\n",
    "        check_exist_folder(test_folder)\n",
    "        train_path = os.path.join(train_folder, 'train_{}.csv'.format(i))\n",
    "        test_path = os.path.join(test_folder, 'test_{}.csv'.format(i))\n",
    "    elif method == 'data_missing':\n",
    "        train_folder = os.path.join(file_name_folder, 'train/train_{}'.format(i))\n",
    "        test_folder = os.path.join(file_name_folder, 'test/test_{}'.format(i))\n",
    "        train_path = os.path.join(train_folder, 'train_{}_missing_{}.csv'.format(i, missingness))\n",
    "        test_path = os.path.join(test_folder, 'test_{}_missing_{}.csv'.format(i, missingness))\n",
    "    # Loading train and test csv\n",
    "    X_train = np.genfromtxt(train_path, delimiter=',')\n",
    "    X_test = np.genfromtxt(test_path, delimiter=',')\n",
    "\n",
    "    return X_train, X_test"
   ]
  },
  {
   "cell_type": "code",
   "execution_count": 100,
   "metadata": {},
   "outputs": [],
   "source": [
    "(D_miss_train, D_miss_test) = csv_reader(data_K_Fold, file_name, 1, method='data_missing', missingness=30)"
   ]
  },
  {
   "cell_type": "code",
   "execution_count": 101,
   "metadata": {},
   "outputs": [
    {
     "data": {
      "text/plain": [
       "array([[    nan,  0.435 ,  0.17  , ...,  0.2705,     nan,  3.    ],\n",
       "       [ 0.69  ,  0.55  ,  0.18  , ...,  0.5   , 11.    ,  3.    ],\n",
       "       [    nan,     nan,     nan, ...,     nan, 10.    ,  3.    ],\n",
       "       ...,\n",
       "       [ 0.64  ,  0.5   ,  0.17  , ...,  0.354 ,  9.    ,  3.    ],\n",
       "       [ 0.62  ,  0.485 ,  0.155 , ...,  0.352 ,  9.    ,  1.    ],\n",
       "       [ 0.49  ,  0.39  ,  0.15  , ...,  0.17  , 21.    ,  3.    ]])"
      ]
     },
     "execution_count": 101,
     "metadata": {},
     "output_type": "execute_result"
    }
   ],
   "source": [
    "D_miss_train"
   ]
  },
  {
   "cell_type": "code",
   "execution_count": 102,
   "metadata": {},
   "outputs": [],
   "source": [
    "def mask_generation(missing_matrix):\n",
    "    data_1d = missing_matrix.flatten()\n",
    "    n_data = len(data_1d)\n",
    "    mask_1d = np.ones(n_data)\n",
    "    \n",
    "    nan_id = [i for i, element in enumerate(data_1d) if math.isnan(element)]\n",
    "    for i in nan_id:\n",
    "        mask_1d[i] = 0\n",
    "    \n",
    "    mask = mask_1d.reshape(missing_matrix.shape)\n",
    "    \n",
    "    return missing_matrix, mask"
   ]
  },
  {
   "cell_type": "code",
   "execution_count": 103,
   "metadata": {},
   "outputs": [
    {
     "data": {
      "text/plain": [
       "(array([[    nan,  0.435 ,  0.17  , ...,  0.2705,     nan,  3.    ],\n",
       "        [ 0.69  ,  0.55  ,  0.18  , ...,  0.5   , 11.    ,  3.    ],\n",
       "        [    nan,     nan,     nan, ...,     nan, 10.    ,  3.    ],\n",
       "        ...,\n",
       "        [ 0.64  ,  0.5   ,  0.17  , ...,  0.354 ,  9.    ,  3.    ],\n",
       "        [ 0.62  ,  0.485 ,  0.155 , ...,  0.352 ,  9.    ,  1.    ],\n",
       "        [ 0.49  ,  0.39  ,  0.15  , ...,  0.17  , 21.    ,  3.    ]]),\n",
       " array([[0., 1., 1., ..., 1., 0., 1.],\n",
       "        [1., 1., 1., ..., 1., 1., 1.],\n",
       "        [0., 0., 0., ..., 0., 1., 1.],\n",
       "        ...,\n",
       "        [1., 1., 1., ..., 1., 1., 1.],\n",
       "        [1., 1., 1., ..., 1., 1., 1.],\n",
       "        [1., 1., 1., ..., 1., 1., 1.]]))"
      ]
     },
     "execution_count": 103,
     "metadata": {},
     "output_type": "execute_result"
    }
   ],
   "source": [
    "mask_generation(D_miss_train)"
   ]
  },
  {
   "cell_type": "code",
   "execution_count": 104,
   "metadata": {},
   "outputs": [
    {
     "data": {
      "text/plain": [
       "array([[    nan,  0.435 ,  0.17  , ...,  0.2705,     nan,  3.    ],\n",
       "       [ 0.69  ,  0.55  ,  0.18  , ...,  0.5   , 11.    ,  3.    ],\n",
       "       [    nan,     nan,     nan, ...,     nan, 10.    ,  3.    ],\n",
       "       ...,\n",
       "       [ 0.64  ,  0.5   ,  0.17  , ...,  0.354 ,  9.    ,  3.    ],\n",
       "       [ 0.62  ,  0.485 ,  0.155 , ...,  0.352 ,  9.    ,  1.    ],\n",
       "       [ 0.49  ,  0.39  ,  0.15  , ...,  0.17  , 21.    ,  3.    ]])"
      ]
     },
     "execution_count": 104,
     "metadata": {},
     "output_type": "execute_result"
    }
   ],
   "source": [
    "D_miss_train"
   ]
  },
  {
   "cell_type": "code",
   "execution_count": 1,
   "metadata": {},
   "outputs": [],
   "source": [
    "import numpy as np"
   ]
  },
  {
   "cell_type": "code",
   "execution_count": 3,
   "metadata": {},
   "outputs": [],
   "source": [
    "a= {'a':123}"
   ]
  },
  {
   "cell_type": "code",
   "execution_count": 5,
   "metadata": {},
   "outputs": [
    {
     "ename": "TypeError",
     "evalue": "unhashable type: 'dict'",
     "output_type": "error",
     "traceback": [
      "\u001b[1;31m---------------------------------------------------------------------------\u001b[0m",
      "\u001b[1;31mTypeError\u001b[0m                                 Traceback (most recent call last)",
      "\u001b[1;32m<ipython-input-5-bcb5f2cb8e92>\u001b[0m in \u001b[0;36m<module>\u001b[1;34m\u001b[0m\n\u001b[1;32m----> 1\u001b[1;33m \u001b[0ma\u001b[0m\u001b[1;33m[\u001b[0m\u001b[0ma\u001b[0m\u001b[1;33m]\u001b[0m\u001b[1;33m\u001b[0m\u001b[1;33m\u001b[0m\u001b[0m\n\u001b[0m",
      "\u001b[1;31mTypeError\u001b[0m: unhashable type: 'dict'"
     ]
    }
   ],
   "source": [
    "a[a]"
   ]
  },
  {
   "cell_type": "code",
   "execution_count": null,
   "metadata": {},
   "outputs": [],
   "source": []
  },
  {
   "cell_type": "code",
   "execution_count": null,
   "metadata": {},
   "outputs": [],
   "source": []
  }
 ],
 "metadata": {
  "kernelspec": {
   "display_name": "Python 3",
   "language": "python",
   "name": "python3"
  },
  "language_info": {
   "codemirror_mode": {
    "name": "ipython",
    "version": 3
   },
   "file_extension": ".py",
   "mimetype": "text/x-python",
   "name": "python",
   "nbconvert_exporter": "python",
   "pygments_lexer": "ipython3",
   "version": "3.8.3"
  }
 },
 "nbformat": 4,
 "nbformat_minor": 4
}
